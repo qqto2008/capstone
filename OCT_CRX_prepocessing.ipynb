{
  "nbformat": 4,
  "nbformat_minor": 0,
  "metadata": {
    "colab": {
      "name": "OCT-CRX prepocessing",
      "provenance": [],
      "collapsed_sections": [],
      "toc_visible": true,
      "authorship_tag": "ABX9TyP7ZoWz0cmFt2n+8H08X3Uq",
      "include_colab_link": true
    },
    "kernelspec": {
      "name": "python3",
      "display_name": "Python 3"
    }
  },
  "cells": [
    {
      "cell_type": "markdown",
      "metadata": {
        "id": "view-in-github",
        "colab_type": "text"
      },
      "source": [
        "<a href=\"https://colab.research.google.com/github/qqto2008/capstone/blob/master/OCT_CRX_prepocessing.ipynb\" target=\"_parent\"><img src=\"https://colab.research.google.com/assets/colab-badge.svg\" alt=\"Open In Colab\"/></a>"
      ]
    },
    {
      "cell_type": "markdown",
      "metadata": {
        "id": "fnh9z2Iy36iH",
        "colab_type": "text"
      },
      "source": [
        "# 1. Dataset access"
      ]
    },
    {
      "cell_type": "markdown",
      "metadata": {
        "id": "r1vlAdfPMfvz",
        "colab_type": "text"
      },
      "source": [
        "## 1.1 Get dataset"
      ]
    },
    {
      "cell_type": "markdown",
      "metadata": {
        "id": "s7-MExsLMrp7",
        "colab_type": "text"
      },
      "source": [
        "IMPORTANT! This dataset is Labelled Optical Coherence Tomography (OCT) and Chest X-Ray Images for Classification (OCT-CXR) , which is \"chest_xray.zip\". Please place the \"chest_xray.zip\" file in the same folder of the .ipynb file.\n",
        "\n",
        "OR the dataset can be loaded in Google Colab by the following code."
      ]
    },
    {
      "cell_type": "code",
      "metadata": {
        "id": "wg7irrBk2wm2",
        "colab_type": "code",
        "colab": {}
      },
      "source": [
        "# Code to read csv file into colaboratory:\n",
        "!pip install -U -q PyDrive\n",
        "from pydrive.auth import GoogleAuth\n",
        "from pydrive.drive import GoogleDrive\n",
        "from google.colab import auth\n",
        "from oauth2client.client import GoogleCredentials\n",
        "\n",
        "# 1. Authenticate and create the PyDrive client.\n",
        "auth.authenticate_user()\n",
        "gauth = GoogleAuth()\n",
        "gauth.credentials = GoogleCredentials.get_application_default()\n",
        "drive = GoogleDrive(gauth)\n",
        "\n",
        "#2. Get the file   \n",
        "id='1J739AyasAsMc258PELJY1MwqfDoPSXxG'\n",
        "downloaded = drive.CreateFile({'id':id}) # replace the id with id of file you want to access\n",
        "downloaded.GetContentFile('chest_xray.zip')  "
      ],
      "execution_count": 0,
      "outputs": []
    },
    {
      "cell_type": "markdown",
      "metadata": {
        "id": "ezRUxi6HNPv1",
        "colab_type": "text"
      },
      "source": [
        "## 1.2 Unzip the dataset"
      ]
    },
    {
      "cell_type": "code",
      "metadata": {
        "id": "z-UqYmgKNW3E",
        "colab_type": "code",
        "colab": {}
      },
      "source": [
        "# unzip the data\n",
        "\n",
        "import zipfile\n",
        "\n",
        "myzip = zipfile.ZipFile('chest_xray.zip')\n",
        "myzip.extractall( )\n",
        "\n"
      ],
      "execution_count": 0,
      "outputs": []
    },
    {
      "cell_type": "code",
      "metadata": {
        "id": "4gheHiqfUZZ7",
        "colab_type": "code",
        "colab": {}
      },
      "source": [
        "#myzip.infolist()"
      ],
      "execution_count": 0,
      "outputs": []
    },
    {
      "cell_type": "markdown",
      "metadata": {
        "id": "yDcQ7eE5Tt1s",
        "colab_type": "text"
      },
      "source": [
        "#2. Preprocess data"
      ]
    },
    {
      "cell_type": "markdown",
      "metadata": {
        "id": "HpS8a-F-TyJ-",
        "colab_type": "text"
      },
      "source": [
        "## 2.1 Add labels to images"
      ]
    },
    {
      "cell_type": "code",
      "metadata": {
        "id": "Ke2t_CyWQxb_",
        "colab_type": "code",
        "colab": {}
      },
      "source": [
        "import matplotlib.pyplot as plt\n",
        "\n",
        "import pickle \n",
        "import os \n",
        "import numpy as np\n",
        "import cv2 \n",
        "%matplotlib inline"
      ],
      "execution_count": 0,
      "outputs": []
    },
    {
      "cell_type": "code",
      "metadata": {
        "id": "jIPHgbBXj5az",
        "colab_type": "code",
        "colab": {}
      },
      "source": [
        "labels = ['PNEUMONIA', 'NORMAL']\n",
        "img_size = 200\n",
        "def get_training_data(data_dir):\n",
        "    data = [] \n",
        "    for label in labels: \n",
        "        path = os.path.join(data_dir, label)\n",
        "        class_num = labels.index(label)\n",
        "        for img in os.listdir(path):\n",
        "            try:\n",
        "                img_arr = cv2.imread(os.path.join(path, img), cv2.IMREAD_GRAYSCALE)\n",
        "                resized_arr = cv2.resize(img_arr, (img_size, img_size))\n",
        "                data.append([resized_arr, class_num])\n",
        "            except Exception as e:\n",
        "                print(e)\n",
        "    return np.array(data)"
      ],
      "execution_count": 0,
      "outputs": []
    },
    {
      "cell_type": "code",
      "metadata": {
        "id": "6_hLY_0WT5P7",
        "colab_type": "code",
        "outputId": "742f8736-fe31-4dd5-891e-8d50e77c3bef",
        "colab": {
          "base_uri": "https://localhost:8080/",
          "height": 217
        }
      },
      "source": [
        "train = get_training_data('./chest_xray/train')\n",
        "test = get_training_data('./chest_xray/test')\n",
        "val = get_training_data('./chest_xray/val')\n",
        "print(len(train))\n",
        "print(len(test))"
      ],
      "execution_count": 13,
      "outputs": [
        {
          "output_type": "stream",
          "text": [
            "OpenCV(4.1.2) /io/opencv/modules/imgproc/src/resize.cpp:3720: error: (-215:Assertion failed) !ssize.empty() in function 'resize'\n",
            "\n",
            "OpenCV(4.1.2) /io/opencv/modules/imgproc/src/resize.cpp:3720: error: (-215:Assertion failed) !ssize.empty() in function 'resize'\n",
            "\n",
            "OpenCV(4.1.2) /io/opencv/modules/imgproc/src/resize.cpp:3720: error: (-215:Assertion failed) !ssize.empty() in function 'resize'\n",
            "\n",
            "OpenCV(4.1.2) /io/opencv/modules/imgproc/src/resize.cpp:3720: error: (-215:Assertion failed) !ssize.empty() in function 'resize'\n",
            "\n",
            "5216\n",
            "624\n"
          ],
          "name": "stdout"
        }
      ]
    },
    {
      "cell_type": "code",
      "metadata": {
        "id": "0YIwRAXDkbvv",
        "colab_type": "code",
        "colab": {
          "base_uri": "https://localhost:8080/",
          "height": 289
        },
        "outputId": "9046ef3b-2d6d-4095-86a2-a663d46ac9c0"
      },
      "source": [
        "plt.imshow(train[10][0], cmap='gray')"
      ],
      "execution_count": 14,
      "outputs": [
        {
          "output_type": "execute_result",
          "data": {
            "text/plain": [
              "<matplotlib.image.AxesImage at 0x7f93d132b978>"
            ]
          },
          "metadata": {
            "tags": []
          },
          "execution_count": 14
        },
        {
          "output_type": "display_data",
          "data": {
            "image/png": "[encoded data removed]",
            "text/plain": [
              "<Figure size 432x288 with 1 Axes>"
            ]
          },
          "metadata": {
            "tags": []
          }
        }
      ]
    },
    {
      "cell_type": "code",
      "metadata": {
        "id": "XkdJRl-IkumE",
        "colab_type": "code",
        "colab": {}
      },
      "source": [
        "#get shuffled data\n",
        "np.random.shuffle(train)\n",
        "\n",
        "np.random.shuffle(test)\n",
        "\n",
        "np.random.shuffle(val)"
      ],
      "execution_count": 0,
      "outputs": []
    },
    {
      "cell_type": "markdown",
      "metadata": {
        "id": "vOfEi7OqWmUB",
        "colab_type": "text"
      },
      "source": [
        "##2.2 Resize the Dataset"
      ]
    },
    {
      "cell_type": "code",
      "metadata": {
        "id": "XZDXALVek2gS",
        "colab_type": "code",
        "colab": {}
      },
      "source": [
        "train_X = []\n",
        "train_y = [] \n",
        "test_X = []\n",
        "test_y = []\n",
        "\n",
        "for feature, label in train:\n",
        "    train_X.append(feature)\n",
        "    train_y.append(label)\n",
        "\n",
        "for feature, label in test:\n",
        "    test_X.append(feature)\n",
        "    test_y.append(label)\n",
        "    \n",
        "for feature, label in val:\n",
        "    train_X.append(feature)\n",
        "    train_y.append(label)\n",
        "    \n",
        "# resize data for modeling \n",
        "train_X = np.array(train_X).reshape(-1, img_size, img_size, 1)\n",
        "train_y = np.array(train_y)\n",
        "test_X = np.array(test_X).reshape(-1, img_size, img_size, 1)\n",
        "test_y = np.array(test_y)"
      ],
      "execution_count": 0,
      "outputs": []
    },
    {
      "cell_type": "code",
      "metadata": {
        "id": "RadvSUxkk5ar",
        "colab_type": "code",
        "colab": {}
      },
      "source": [
        "train_X = train_X / 255\n",
        "test_X = test_X / 255"
      ],
      "execution_count": 0,
      "outputs": []
    }
  ]
}